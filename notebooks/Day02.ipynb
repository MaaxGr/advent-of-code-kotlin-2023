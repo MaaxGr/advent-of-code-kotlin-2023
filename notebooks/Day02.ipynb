{
 "cells": [
  {
   "cell_type": "code",
   "execution_count": 2,
   "metadata": {
    "collapsed": true,
    "ExecuteTime": {
     "end_time": "2023-12-02T19:06:02.357665Z",
     "start_time": "2023-12-02T19:06:01.709934Z"
    }
   },
   "outputs": [],
   "source": [
    "import java.io.File\n",
    "\n",
    "val content = File(\"../src/Day02_test.txt\").readText().split(\"\\n\")"
   ]
  },
  {
   "cell_type": "code",
   "execution_count": 5,
   "outputs": [],
   "source": [
    "data class Subset(\n",
    "    val cubes: List<Cubes>,\n",
    ")\n",
    "\n",
    "data class Cubes(\n",
    "    val color: String,\n",
    "    val count: Int\n",
    ")\n",
    "\n",
    "\n",
    "data class Entry(\n",
    "    val id: Int,\n",
    "    val subsets: List<Subset>\n",
    ")"
   ],
   "metadata": {
    "collapsed": false,
    "ExecuteTime": {
     "end_time": "2023-12-02T19:10:11.079789Z",
     "start_time": "2023-12-02T19:10:09.916908Z"
    }
   }
  },
  {
   "cell_type": "code",
   "execution_count": 6,
   "outputs": [
    {
     "name": "stdout",
     "output_type": "stream",
     "text": [
      "Game 1: 4 blue, 16 green, 2 red; 5 red, 11 blue, 16 green; 9 green, 11 blue; 10 blue, 6 green, 4 red\n"
     ]
    }
   ],
   "source": [
    "val first = content.first()\n",
    "println(first)"
   ],
   "metadata": {
    "collapsed": false,
    "ExecuteTime": {
     "end_time": "2023-12-02T19:11:04.880688Z",
     "start_time": "2023-12-02T19:11:04.267637Z"
    }
   }
  },
  {
   "cell_type": "code",
   "execution_count": 31,
   "outputs": [
    {
     "data": {
      "text/plain": "[[Cubes(color=blue, count=4), Cubes(color=green, count=16), Cubes(color=red, count=2)], [Cubes(color=red, count=5), Cubes(color=blue, count=11), Cubes(color=green, count=16)], [Cubes(color=green, count=9), Cubes(color=blue, count=11)], [Cubes(color=blue, count=10), Cubes(color=green, count=6), Cubes(color=red, count=4)]]"
     },
     "execution_count": 31,
     "metadata": {},
     "output_type": "execute_result"
    }
   ],
   "source": [
    "val exampleParts = first.split(\":\")\n",
    "val exampleId = exampleParts.first().substringAfter(\"Game\").trim().toInt()\n",
    "\n",
    "val exampoleSubsets =  exampleParts.last().trim().split(\";\")\n",
    "\n",
    "val sampleCubeObjectList = exampoleSubsets.map { \n",
    "    val cubes = it.split(\",\").map { it.trim() }\n",
    "    cubes.map { \n",
    "        val count = it.substringBefore(\" \").trim().toInt()\n",
    "        val color = it.substringAfter(\" \").trim()\n",
    "\n",
    "        Cubes(color, count)\n",
    "    }\n",
    "}\n",
    "\n",
    "sampleCubeObjectList"
   ],
   "metadata": {
    "collapsed": false,
    "ExecuteTime": {
     "end_time": "2023-12-02T19:22:35.509474Z",
     "start_time": "2023-12-02T19:22:34.587251Z"
    }
   }
  },
  {
   "cell_type": "code",
   "execution_count": 32,
   "outputs": [
    {
     "data": {
      "text/plain": "Entry(id=1, subsets=[Subset(cubes=[Cubes(color=blue, count=4), Cubes(color=green, count=16), Cubes(color=red, count=2)]), Subset(cubes=[Cubes(color=red, count=5), Cubes(color=blue, count=11), Cubes(color=green, count=16)]), Subset(cubes=[Cubes(color=green, count=9), Cubes(color=blue, count=11)]), Subset(cubes=[Cubes(color=blue, count=10), Cubes(color=green, count=6), Cubes(color=red, count=4)])])"
     },
     "execution_count": 32,
     "metadata": {},
     "output_type": "execute_result"
    }
   ],
   "source": [
    "val games = content.map { gameRowString ->\n",
    "    val gameParts = gameRowString.split(\":\")\n",
    "    val gameId = gameParts.first().substringAfter(\"Game\").trim().toInt()\n",
    "\n",
    "    val gameSubsets =  gameParts.last().trim().split(\";\")\n",
    "\n",
    "    val cubeObjectList = gameSubsets.map { \n",
    "        val cubes = it.split(\",\").map { it.trim() }\n",
    "        cubes.map { \n",
    "            val count = it.substringBefore(\" \").trim().toInt()\n",
    "            val color = it.substringAfter(\" \").trim()\n",
    "\n",
    "            Cubes(color, count)\n",
    "        }\n",
    "    }\n",
    "\n",
    "    Entry(gameId, cubeObjectList.map { Subset(it) })\n",
    " } \n",
    " \n",
    "games[0]"
   ],
   "metadata": {
    "collapsed": false,
    "ExecuteTime": {
     "end_time": "2023-12-02T19:25:08.309363Z",
     "start_time": "2023-12-02T19:25:07.103065Z"
    }
   }
  },
  {
   "cell_type": "code",
   "execution_count": 33,
   "outputs": [
    {
     "data": {
      "text/plain": "0"
     },
     "execution_count": 33,
     "metadata": {},
     "output_type": "execute_result"
    }
   ],
   "source": [
    "val duplicatesInGame = games.count { \n",
    "    it.subsets.any { it.cubes.groupBy { it.color }.values.any { it.size > 1 } }\n",
    "}\n",
    "duplicatesInGame"
   ],
   "metadata": {
    "collapsed": false,
    "ExecuteTime": {
     "end_time": "2023-12-02T19:26:54.982957Z",
     "start_time": "2023-12-02T19:26:53.657120Z"
    }
   }
  },
  {
   "cell_type": "code",
   "execution_count": 36,
   "outputs": [
    {
     "data": {
      "text/plain": "5"
     },
     "execution_count": 36,
     "metadata": {},
     "output_type": "execute_result"
    }
   ],
   "source": [
    "/*\n",
    "Entry(id=1, subsets=[Subset(cubes=[Cubes(color=blue, count=4), Cubes(color=green, count=16), Cubes(color=red, count=2)]), Subset(cubes=[Cubes(color=red, count=5), Cubes(color=blue, count=11), Cubes(color=green, count=16)]), Subset(cubes=[Cubes(color=green, count=9), Cubes(color=blue, count=11)]), Subset(cubes=[Cubes(color=blue, count=10), Cubes(color=green, count=6), Cubes(color=red, count=4)])])\n",
    " */\n",
    "\n",
    "val exampleGame = games.first()\n",
    "\n",
    "val exampleMaxRedPerSubset = exampleGame.subsets\n",
    "    .map { it.cubes.filter { it.color == \"red\" }\n",
    "        .sumOf { it.count } }.maxOrNull() ?: 0\n",
    "exampleMaxRedPerSubset"
   ],
   "metadata": {
    "collapsed": false,
    "ExecuteTime": {
     "end_time": "2023-12-02T19:32:26.085108Z",
     "start_time": "2023-12-02T19:32:24.890126Z"
    }
   }
  },
  {
   "cell_type": "code",
   "execution_count": 38,
   "outputs": [
    {
     "name": "stdout",
     "output_type": "stream",
     "text": [
      "5\n",
      "16\n",
      "11\n"
     ]
    },
    {
     "data": {
      "text/plain": "false"
     },
     "execution_count": 38,
     "metadata": {},
     "output_type": "execute_result"
    }
   ],
   "source": [
    "fun gameMatchesElfConstraints(game: Entry): Boolean {\n",
    "    val maxRedPerSubset = exampleGame.subsets\n",
    "        .map {\n",
    "            it.cubes.filter { it.color == \"red\" }\n",
    "                .sumOf { it.count }\n",
    "        }.maxOrNull() ?: 0\n",
    "\n",
    "    val maxGreenPerSubset = exampleGame.subsets\n",
    "        .map {\n",
    "            it.cubes.filter { it.color == \"green\" }\n",
    "                .sumOf { it.count }\n",
    "        }.maxOrNull() ?: 0\n",
    "\n",
    "    val maxBluePerSubset = exampleGame.subsets\n",
    "        .map {\n",
    "            it.cubes.filter { it.color == \"blue\" }\n",
    "                .sumOf { it.count }\n",
    "        }.maxOrNull() ?: 0\n",
    "\n",
    "    println(maxRedPerSubset)\n",
    "    println(maxGreenPerSubset)\n",
    "    println(maxBluePerSubset)\n",
    "    return maxRedPerSubset < 12 && maxGreenPerSubset < 13 && maxBluePerSubset < 14\n",
    "}\n",
    "\n",
    "val exampleGameMatches = gameMatchesElfConstraints(exampleGame)\n",
    "exampleGameMatches"
   ],
   "metadata": {
    "collapsed": false,
    "ExecuteTime": {
     "end_time": "2023-12-02T19:35:37.947211Z",
     "start_time": "2023-12-02T19:35:36.499447Z"
    }
   }
  }
 ],
 "metadata": {
  "kernelspec": {
   "display_name": "Kotlin",
   "language": "kotlin",
   "name": "kotlin"
  },
  "language_info": {
   "name": "kotlin",
   "version": "1.9.0",
   "mimetype": "text/x-kotlin",
   "file_extension": ".kt",
   "pygments_lexer": "kotlin",
   "codemirror_mode": "text/x-kotlin",
   "nbconvert_exporter": ""
  }
 },
 "nbformat": 4,
 "nbformat_minor": 0
}
