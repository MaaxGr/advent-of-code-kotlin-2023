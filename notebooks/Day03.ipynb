{
 "cells": [
  {
   "cell_type": "code",
   "execution_count": 23,
   "metadata": {
    "collapsed": true,
    "ExecuteTime": {
     "end_time": "2023-12-03T19:23:12.729893Z",
     "start_time": "2023-12-03T19:23:12.168430Z"
    }
   },
   "outputs": [
    {
     "data": {
      "text/plain": "467..114..\n...*......\n..35..633.\n......#...\n617*......\n.....+.58.\n..592.....\n......755.\n...$.*....\n.664.598.."
     },
     "execution_count": 23,
     "metadata": {},
     "output_type": "execute_result"
    }
   ],
   "source": [
    "import java.io.File\n",
    "\n",
    "val fileContent = File(\"../src/Day03_example.txt\").readText()\n",
    "fileContent"
   ]
  },
  {
   "cell_type": "code",
   "execution_count": 24,
   "outputs": [
    {
     "name": "stdout",
     "output_type": "stream",
     "text": [
      "467..114..\n",
      "...*......\n",
      "..35..633.\n",
      "......#...\n",
      "617*......\n",
      ".....+.58.\n",
      "..592.....\n",
      "......755.\n",
      "...$.*....\n",
      ".664.598..\n"
     ]
    },
    {
     "data": {
      "text/plain": "[PotentialPartNumber(number=467, rowIndex=0, columnStartIndex=0, columnEndIndex=2), PotentialPartNumber(number=114, rowIndex=0, columnStartIndex=5, columnEndIndex=7), PotentialPartNumber(number=35, rowIndex=2, columnStartIndex=2, columnEndIndex=3), PotentialPartNumber(number=633, rowIndex=2, columnStartIndex=6, columnEndIndex=8), PotentialPartNumber(number=617, rowIndex=4, columnStartIndex=0, columnEndIndex=2), PotentialPartNumber(number=58, rowIndex=5, columnStartIndex=7, columnEndIndex=8), PotentialPartNumber(number=592, rowIndex=6, columnStartIndex=2, columnEndIndex=4), PotentialPartNumber(number=755, rowIndex=7, columnStartIndex=6, columnEndIndex=8), PotentialPartNumber(number=664, rowIndex=9, columnStartIndex=1, columnEndIndex=3), PotentialPartNumber(number=598, rowIndex=9, columnStartIndex=5, columnEndIndex=7)]"
     },
     "execution_count": 24,
     "metadata": {},
     "output_type": "execute_result"
    }
   ],
   "source": [
    "data class PotentialPartNumber(\n",
    "    val number: Int,\n",
    "    val rowIndex: Int,\n",
    "    val columnStartIndex: Int,\n",
    "    val columnEndIndex: Int\n",
    ")\n",
    "\n",
    "var row = 0\n",
    "var index = 0\n",
    "\n",
    "val rows = fileContent.split(\"\\n\")\n",
    "\n",
    "val potentialPartNumbers = mutableListOf<PotentialPartNumber>()\n",
    "\n",
    "rows.forEachIndexed { rowIndex, row ->\n",
    "    var numberBuffer = \"\"\n",
    "    var numberStartColumnIndex = 0\n",
    "    \n",
    "    row.forEachIndexed { characterIndex, character ->\n",
    "        if (character.digitToIntOrNull() != null) {\n",
    "            if (numberBuffer.isBlank()) {\n",
    "                numberStartColumnIndex = characterIndex\n",
    "            }\n",
    "            \n",
    "            numberBuffer += character\n",
    "        } else {\n",
    "            if (numberBuffer.isNotBlank()) {\n",
    "                potentialPartNumbers.add(\n",
    "                    PotentialPartNumber(\n",
    "                        number = numberBuffer.toInt(),\n",
    "                        rowIndex = rowIndex,\n",
    "                        columnStartIndex = numberStartColumnIndex,\n",
    "                        columnEndIndex = characterIndex - 1\n",
    "                    )\n",
    "                )\n",
    "                numberBuffer = \"\"\n",
    "            }\n",
    "        }\n",
    "     }\n",
    "}\n",
    "\n",
    "println(fileContent)\n",
    "\n",
    "potentialPartNumbers"
   ],
   "metadata": {
    "collapsed": false,
    "ExecuteTime": {
     "end_time": "2023-12-03T19:23:15.490999Z",
     "start_time": "2023-12-03T19:23:14.402099Z"
    }
   }
  },
  {
   "cell_type": "code",
   "execution_count": 26,
   "outputs": [
    {
     "name": "stdout",
     "output_type": "stream",
     "text": [
      "PartNumber: PotentialPartNumber(number=467, rowIndex=0, columnStartIndex=0, columnEndIndex=2) => true\n",
      "PartNumber: PotentialPartNumber(number=114, rowIndex=0, columnStartIndex=5, columnEndIndex=7) => false\n",
      "PartNumber: PotentialPartNumber(number=35, rowIndex=2, columnStartIndex=2, columnEndIndex=3) => true\n",
      "PartNumber: PotentialPartNumber(number=633, rowIndex=2, columnStartIndex=6, columnEndIndex=8) => true\n",
      "PartNumber: PotentialPartNumber(number=617, rowIndex=4, columnStartIndex=0, columnEndIndex=2) => true\n",
      "PartNumber: PotentialPartNumber(number=58, rowIndex=5, columnStartIndex=7, columnEndIndex=8) => false\n",
      "PartNumber: PotentialPartNumber(number=592, rowIndex=6, columnStartIndex=2, columnEndIndex=4) => true\n",
      "PartNumber: PotentialPartNumber(number=755, rowIndex=7, columnStartIndex=6, columnEndIndex=8) => true\n",
      "PartNumber: PotentialPartNumber(number=664, rowIndex=9, columnStartIndex=1, columnEndIndex=3) => true\n",
      "PartNumber: PotentialPartNumber(number=598, rowIndex=9, columnStartIndex=5, columnEndIndex=7) => true\n"
     ]
    }
   ],
   "source": [
    "fun getSymbolAt(y: Int, x: Int): Char {\n",
    "    return rows[y].elementAt(x)\n",
    "}\n",
    "\n",
    "fun Char.isValidSymbol(): Boolean {\n",
    "    return this != '.'\n",
    "}\n",
    "\n",
    "\n",
    "fun PotentialPartNumber.isRealPartNumber(): Boolean {\n",
    "    var symbolLeftPresent =\n",
    "        if (columnStartIndex == 0) false else getSymbolAt(rowIndex, columnStartIndex - 1).isValidSymbol()\n",
    "    var symbolRightPresent =\n",
    "        if (columnEndIndex == 9) false else getSymbolAt(rowIndex, columnEndIndex + 1).isValidSymbol()\n",
    "\n",
    "    var symbolTopPresent = if (rowIndex == 0) false else {\n",
    "        var isValidSymbol = false\n",
    "        for (index in columnStartIndex..columnEndIndex) {\n",
    "            if (getSymbolAt(rowIndex - 1, index).isValidSymbol()) {\n",
    "                isValidSymbol = true\n",
    "            }\n",
    "        }\n",
    "        isValidSymbol\n",
    "    }\n",
    "\n",
    "    var symbolBottomPresent = if (rowIndex == rows.size - 1) false else {\n",
    "        var isValidSymbol = false\n",
    "        for (index in columnStartIndex..columnEndIndex) {\n",
    "            if (getSymbolAt(rowIndex + 1, index).isValidSymbol()) {\n",
    "                isValidSymbol = true\n",
    "            }\n",
    "        }\n",
    "        isValidSymbol\n",
    "    }\n",
    "\n",
    "    var symbolTopLeftDiagonalPresent = if (rowIndex == 0 || columnStartIndex == 0) false\n",
    "    else getSymbolAt(rowIndex - 1, columnStartIndex - 1).isValidSymbol()\n",
    "\n",
    "    var symbolTopRightDiagonalPresent = if (rowIndex == 0 || columnEndIndex == 9) false\n",
    "    else getSymbolAt(rowIndex - 1, columnEndIndex + 1).isValidSymbol()\n",
    "\n",
    "    var symbolBottomLeftDiagonalPresent = if (rowIndex == rows.size - 1 || columnStartIndex == 0) false\n",
    "    else getSymbolAt(rowIndex + 1, columnStartIndex - 1).isValidSymbol()\n",
    "\n",
    "    var symbolBottomRightDiagonalPresent = if (rowIndex == rows.size - 1 || columnEndIndex == 9) false\n",
    "    else getSymbolAt(rowIndex + 1, columnEndIndex + 1).isValidSymbol()\n",
    "\n",
    "    return symbolLeftPresent || symbolRightPresent || symbolTopPresent || symbolBottomPresent || symbolTopLeftDiagonalPresent || symbolTopRightDiagonalPresent || symbolBottomLeftDiagonalPresent || symbolBottomRightDiagonalPresent\n",
    "}\n",
    "\n",
    "potentialPartNumbers.forEach { potentialPartNumber ->\n",
    "    println(\"PartNumber: $potentialPartNumber => ${potentialPartNumber.isRealPartNumber()}\")\n",
    "}\n"
   ],
   "metadata": {
    "collapsed": false,
    "ExecuteTime": {
     "end_time": "2023-12-03T19:24:40.411279Z",
     "start_time": "2023-12-03T19:24:38.900Z"
    }
   }
  },
  {
   "cell_type": "code",
   "execution_count": null,
   "outputs": [],
   "source": [],
   "metadata": {
    "collapsed": false
   }
  }
 ],
 "metadata": {
  "kernelspec": {
   "display_name": "Kotlin",
   "language": "kotlin",
   "name": "kotlin"
  },
  "language_info": {
   "name": "kotlin",
   "version": "1.9.0",
   "mimetype": "text/x-kotlin",
   "file_extension": ".kt",
   "pygments_lexer": "kotlin",
   "codemirror_mode": "text/x-kotlin",
   "nbconvert_exporter": ""
  }
 },
 "nbformat": 4,
 "nbformat_minor": 0
}
